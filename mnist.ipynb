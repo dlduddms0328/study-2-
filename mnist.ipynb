{
  "nbformat": 4,
  "nbformat_minor": 0,
  "metadata": {
    "colab": {
      "name": "mnist",
      "provenance": [],
      "include_colab_link": true
    },
    "kernelspec": {
      "name": "python3",
      "display_name": "Python 3"
    },
    "accelerator": "GPU"
  },
  "cells": [
    {
      "cell_type": "markdown",
      "metadata": {
        "id": "view-in-github",
        "colab_type": "text"
      },
      "source": [
        "<a href=\"https://colab.research.google.com/github/dlduddms0328/study-2-/blob/master/mnist.ipynb\" target=\"_parent\"><img src=\"https://colab.research.google.com/assets/colab-badge.svg\" alt=\"Open In Colab\"/></a>"
      ]
    },
    {
      "cell_type": "code",
      "metadata": {
        "id": "IE3vMro5kFto",
        "colab_type": "code",
        "colab": {}
      },
      "source": [
        "import numpy as np\n",
        "import pandas as pd\n",
        "import matplotlib.pyplot as plt"
      ],
      "execution_count": 0,
      "outputs": []
    },
    {
      "cell_type": "code",
      "metadata": {
        "id": "-ORWc_RFkHWl",
        "colab_type": "code",
        "outputId": "146dc4a4-7483-447b-8a7f-f8d100d1a7ed",
        "colab": {
          "base_uri": "https://localhost:8080/",
          "height": 126
        }
      },
      "source": [
        "import tensorflow.compat.v1 as tf\n",
        "tf.disable_v2_behavior() \n",
        "\n",
        "from keras.datasets import mnist\n",
        "(train_images, train_labels), (test_images, test_labels) = mnist.load_data()"
      ],
      "execution_count": 0,
      "outputs": [
        {
          "output_type": "stream",
          "text": [
            "WARNING:tensorflow:From /usr/local/lib/python3.6/dist-packages/tensorflow_core/python/compat/v2_compat.py:68: disable_resource_variables (from tensorflow.python.ops.variable_scope) is deprecated and will be removed in a future version.\n",
            "Instructions for updating:\n",
            "non-resource variables are not supported in the long term\n",
            "Downloading data from https://s3.amazonaws.com/img-datasets/mnist.npz\n",
            "11493376/11490434 [==============================] - 1s 0us/step\n"
          ],
          "name": "stdout"
        }
      ]
    },
    {
      "cell_type": "code",
      "metadata": {
        "id": "DtJqpcgRoyt5",
        "colab_type": "code",
        "outputId": "f5ce34f3-abac-49f9-9252-987365583d0b",
        "colab": {
          "base_uri": "https://localhost:8080/",
          "height": 35
        }
      },
      "source": [
        "train_images.shape"
      ],
      "execution_count": 0,
      "outputs": [
        {
          "output_type": "execute_result",
          "data": {
            "text/plain": [
              "(60000, 28, 28)"
            ]
          },
          "metadata": {
            "tags": []
          },
          "execution_count": 4
        }
      ]
    },
    {
      "cell_type": "code",
      "metadata": {
        "id": "uDoDlQQSo3FR",
        "colab_type": "code",
        "outputId": "68cab08f-242e-4e51-a1c4-168923cbbb45",
        "colab": {
          "base_uri": "https://localhost:8080/",
          "height": 35
        }
      },
      "source": [
        "train_labels.shape"
      ],
      "execution_count": 0,
      "outputs": [
        {
          "output_type": "execute_result",
          "data": {
            "text/plain": [
              "(60000,)"
            ]
          },
          "metadata": {
            "tags": []
          },
          "execution_count": 5
        }
      ]
    },
    {
      "cell_type": "code",
      "metadata": {
        "id": "IMG_SAhekKyP",
        "colab_type": "code",
        "outputId": "fb967358-6133-4fec-fa64-1b119854256b",
        "colab": {
          "base_uri": "https://localhost:8080/",
          "height": 301
        }
      },
      "source": [
        "from keras.models import *\n",
        "from keras.layers import * \n",
        "from keras.utils import to_categorical\n",
        "\n",
        "model = Sequential()\n",
        "model.add(Flatten(input_shape=(28,28)))\n",
        "model.add(Dense(128, activation=\"relu\"))\n",
        "model.add(Dense(128, activation=\"relu\"))\n",
        "model.add(Dense(10, activation=\"softmax\"))\n",
        "model.summary() "
      ],
      "execution_count": 0,
      "outputs": [
        {
          "output_type": "stream",
          "text": [
            "Model: \"sequential_2\"\n",
            "_________________________________________________________________\n",
            "Layer (type)                 Output Shape              Param #   \n",
            "=================================================================\n",
            "flatten_2 (Flatten)          (None, 784)               0         \n",
            "_________________________________________________________________\n",
            "dense_4 (Dense)              (None, 128)               100480    \n",
            "_________________________________________________________________\n",
            "dense_5 (Dense)              (None, 128)               16512     \n",
            "_________________________________________________________________\n",
            "dense_6 (Dense)              (None, 10)                1290      \n",
            "=================================================================\n",
            "Total params: 118,282\n",
            "Trainable params: 118,282\n",
            "Non-trainable params: 0\n",
            "_________________________________________________________________\n"
          ],
          "name": "stdout"
        }
      ]
    },
    {
      "cell_type": "code",
      "metadata": {
        "id": "DGTc17v6kKqX",
        "colab_type": "code",
        "outputId": "f5f2d2ab-d2b2-44d3-b507-efa50462ba4a",
        "colab": {
          "base_uri": "https://localhost:8080/",
          "height": 88
        }
      },
      "source": [
        "model.compile(optimizer='rmsprop',\n",
        "              loss='categorical_crossentropy',\n",
        "              metrics=['accuracy'])"
      ],
      "execution_count": 0,
      "outputs": [
        {
          "output_type": "stream",
          "text": [
            "WARNING:tensorflow:From /usr/local/lib/python3.6/dist-packages/keras/optimizers.py:793: The name tf.train.Optimizer is deprecated. Please use tf.compat.v1.train.Optimizer instead.\n",
            "\n",
            "WARNING:tensorflow:From /usr/local/lib/python3.6/dist-packages/keras/backend/tensorflow_backend.py:3576: The name tf.log is deprecated. Please use tf.math.log instead.\n",
            "\n"
          ],
          "name": "stdout"
        }
      ]
    },
    {
      "cell_type": "code",
      "metadata": {
        "id": "nBsxDAKvnj6G",
        "colab_type": "code",
        "colab": {}
      },
      "source": [
        "x_train = train_images[:50000]\n",
        "x_val = train_images[50000:]\n",
        "\n",
        "y_train = train_labels[:50000]\n",
        "y_val = train_labels[50000:]\n"
      ],
      "execution_count": 0,
      "outputs": []
    },
    {
      "cell_type": "code",
      "metadata": {
        "id": "fuQXjFFOrmjR",
        "colab_type": "code",
        "colab": {}
      },
      "source": [
        "y_train=to_categorical(y_train)\n",
        "y_val=to_categorical(y_val)"
      ],
      "execution_count": 0,
      "outputs": []
    },
    {
      "cell_type": "code",
      "metadata": {
        "id": "kRVwsBv5qOKz",
        "colab_type": "code",
        "outputId": "82bf0b04-ee45-472d-bd89-c90e2ae4e6e1",
        "colab": {
          "base_uri": "https://localhost:8080/",
          "height": 35
        }
      },
      "source": [
        "x_train.shape,x_val.shape"
      ],
      "execution_count": 0,
      "outputs": [
        {
          "output_type": "execute_result",
          "data": {
            "text/plain": [
              "((50000, 28, 28), (10000, 28, 28))"
            ]
          },
          "metadata": {
            "tags": []
          },
          "execution_count": 10
        }
      ]
    },
    {
      "cell_type": "code",
      "metadata": {
        "id": "8NV49rzoqZno",
        "colab_type": "code",
        "outputId": "c195e906-4be1-46ff-ba9c-7b3ab8c82b3b",
        "colab": {
          "base_uri": "https://localhost:8080/",
          "height": 35
        }
      },
      "source": [
        "y_train.shape,y_val.shape"
      ],
      "execution_count": 0,
      "outputs": [
        {
          "output_type": "execute_result",
          "data": {
            "text/plain": [
              "((50000, 10), (10000, 10))"
            ]
          },
          "metadata": {
            "tags": []
          },
          "execution_count": 11
        }
      ]
    },
    {
      "cell_type": "code",
      "metadata": {
        "id": "CHVz_X5Hm1Vf",
        "colab_type": "code",
        "outputId": "1321848d-66b1-4926-8448-549f513753fc",
        "colab": {
          "base_uri": "https://localhost:8080/",
          "height": 390
        }
      },
      "source": [
        "models2 = model.fit(x_train,\n",
        "                    y_train,\n",
        "                    epochs=10,\n",
        "                    batch_size=50000,\n",
        "                    validation_data=(x_val,y_val))"
      ],
      "execution_count": 0,
      "outputs": [
        {
          "output_type": "stream",
          "text": [
            "Train on 50000 samples, validate on 10000 samples\n",
            "Epoch 1/10\n",
            "\r50000/50000 [==============================] - 0s 3us/step - loss: 1.7459 - acc: 0.8917 - val_loss: 1.8615 - val_acc: 0.8802\n",
            "Epoch 2/10\n",
            "50000/50000 [==============================] - 0s 3us/step - loss: 1.7459 - acc: 0.8917 - val_loss: 1.8615 - val_acc: 0.8802\n",
            "Epoch 3/10\n",
            "50000/50000 [==============================] - 0s 3us/step - loss: 1.7459 - acc: 0.8917 - val_loss: 1.8615 - val_acc: 0.8802\n",
            "Epoch 4/10\n",
            "50000/50000 [==============================] - 0s 3us/step - loss: 1.7459 - acc: 0.8917 - val_loss: 1.8615 - val_acc: 0.8802\n",
            "Epoch 5/10\n",
            "50000/50000 [==============================] - 0s 3us/step - loss: 1.7459 - acc: 0.8917 - val_loss: 1.8615 - val_acc: 0.8802\n",
            "Epoch 6/10\n",
            "50000/50000 [==============================] - 0s 3us/step - loss: 1.7459 - acc: 0.8917 - val_loss: 1.8615 - val_acc: 0.8802\n",
            "Epoch 7/10\n",
            "50000/50000 [==============================] - 0s 3us/step - loss: 1.7459 - acc: 0.8917 - val_loss: 1.8615 - val_acc: 0.8802\n",
            "Epoch 8/10\n",
            "50000/50000 [==============================] - 0s 3us/step - loss: 1.7459 - acc: 0.8917 - val_loss: 1.8615 - val_acc: 0.8801\n",
            "Epoch 9/10\n",
            "50000/50000 [==============================] - 0s 3us/step - loss: 1.7459 - acc: 0.8917 - val_loss: 1.8615 - val_acc: 0.8801\n",
            "Epoch 10/10\n",
            "50000/50000 [==============================] - 0s 3us/step - loss: 1.7459 - acc: 0.8917 - val_loss: 1.8615 - val_acc: 0.8801\n"
          ],
          "name": "stdout"
        }
      ]
    }
  ]
}